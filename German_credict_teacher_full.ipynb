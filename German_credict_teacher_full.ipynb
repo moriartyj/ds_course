{
 "cells": [
  {
   "cell_type": "code",
   "execution_count": 1,
   "metadata": {
    "collapsed": true
   },
   "outputs": [],
   "source": [
    "from IPython.display import display, HTML\n",
    "import pandas as pd\n",
    "pd.set_option('display.max_rows', 200)\n",
    "pd.set_option('display.max_columns', 100)\n",
    "pd.set_option('display.width', 1000)\n",
    "\n",
    "import numpy as np\n",
    "import warnings\n",
    "\n",
    "\n",
    "from datetime import datetime\n",
    "import glob\n",
    "import io, os , sys, types\n",
    "import tabulate\n",
    "import copy\n",
    "\n",
    "import random\n",
    "\n",
    "import matplotlib.pyplot as plt\n",
    "%matplotlib inline\n",
    "import itertools\n",
    "\n",
    "from sklearn.model_selection import train_test_split\n",
    "from sklearn import linear_model\n",
    "#from sklearn.linear_model import LogisticRegression\n",
    "from sklearn.naive_bayes import BernoulliNB \n",
    "from sklearn import datasets\n",
    "from sklearn import metrics\n",
    "from sklearn.metrics import roc_curve, auc\n",
    "from sklearn.discriminant_analysis import LinearDiscriminantAnalysis\n",
    "from sklearn.discriminant_analysis import QuadraticDiscriminantAnalysis\n",
    "from sklearn import tree\n",
    "from sklearn.externals.six import StringIO\n",
    "from sklearn.ensemble import RandomForestClassifier\n",
    "import pydotplus\n",
    "\n",
    "from scipy import stats\n",
    "from scipy.stats import pearsonr\n",
    "from scipy.stats import chi2_contingency\n",
    "\n",
    "from helper_functions import *\n",
    "\n",
    "import seaborn as sns\n",
    "sns.set(color_codes=True)\n",
    "\n",
    "fontsz = 12\n",
    "\n",
    "# ROC Curve and Cutoff Analysis:\n",
    "# https://ncss-wpengine.netdna-ssl.com/wp-content/themes/ncss/pdf/Procedures/NCSS/One_ROC_Curve_and_Cutoff_Analysis.pdf"
   ]
  },
  {
   "cell_type": "code",
   "execution_count": null,
   "metadata": {
    "collapsed": true
   },
   "outputs": [],
   "source": []
  },
  {
   "cell_type": "code",
   "execution_count": 2,
   "metadata": {},
   "outputs": [],
   "source": [
    "# load the dataset\n",
    "fname_germancredit = r'dataset/German.Credit.csv'\n",
    "data_raw = pd.read_csv(fname_germancredit)"
   ]
  },
  {
   "cell_type": "code",
   "execution_count": 3,
   "metadata": {},
   "outputs": [
    {
     "data": {
      "text/html": [
       "<div>\n",
       "<style>\n",
       "    .dataframe thead tr:only-child th {\n",
       "        text-align: right;\n",
       "    }\n",
       "\n",
       "    .dataframe thead th {\n",
       "        text-align: left;\n",
       "    }\n",
       "\n",
       "    .dataframe tbody tr th {\n",
       "        vertical-align: top;\n",
       "    }\n",
       "</style>\n",
       "<table border=\"1\" class=\"dataframe\">\n",
       "  <thead>\n",
       "    <tr style=\"text-align: right;\">\n",
       "      <th></th>\n",
       "      <th>duration</th>\n",
       "      <th>credit_amount</th>\n",
       "      <th>installment_commitment</th>\n",
       "      <th>residence_since</th>\n",
       "      <th>age</th>\n",
       "      <th>existing_credits</th>\n",
       "      <th>num_dependents</th>\n",
       "    </tr>\n",
       "  </thead>\n",
       "  <tbody>\n",
       "    <tr>\n",
       "      <th>count</th>\n",
       "      <td>1000.000000</td>\n",
       "      <td>1000.000000</td>\n",
       "      <td>1000.000000</td>\n",
       "      <td>1000.000000</td>\n",
       "      <td>1000.000000</td>\n",
       "      <td>1000.000000</td>\n",
       "      <td>1000.000000</td>\n",
       "    </tr>\n",
       "    <tr>\n",
       "      <th>mean</th>\n",
       "      <td>20.903000</td>\n",
       "      <td>3271.258000</td>\n",
       "      <td>2.973000</td>\n",
       "      <td>2.845000</td>\n",
       "      <td>35.546000</td>\n",
       "      <td>1.407000</td>\n",
       "      <td>1.155000</td>\n",
       "    </tr>\n",
       "    <tr>\n",
       "      <th>std</th>\n",
       "      <td>12.058814</td>\n",
       "      <td>2822.736876</td>\n",
       "      <td>1.118715</td>\n",
       "      <td>1.103718</td>\n",
       "      <td>11.375469</td>\n",
       "      <td>0.577654</td>\n",
       "      <td>0.362086</td>\n",
       "    </tr>\n",
       "    <tr>\n",
       "      <th>min</th>\n",
       "      <td>4.000000</td>\n",
       "      <td>250.000000</td>\n",
       "      <td>1.000000</td>\n",
       "      <td>1.000000</td>\n",
       "      <td>19.000000</td>\n",
       "      <td>1.000000</td>\n",
       "      <td>1.000000</td>\n",
       "    </tr>\n",
       "    <tr>\n",
       "      <th>25%</th>\n",
       "      <td>12.000000</td>\n",
       "      <td>1365.500000</td>\n",
       "      <td>2.000000</td>\n",
       "      <td>2.000000</td>\n",
       "      <td>27.000000</td>\n",
       "      <td>1.000000</td>\n",
       "      <td>1.000000</td>\n",
       "    </tr>\n",
       "    <tr>\n",
       "      <th>50%</th>\n",
       "      <td>18.000000</td>\n",
       "      <td>2319.500000</td>\n",
       "      <td>3.000000</td>\n",
       "      <td>3.000000</td>\n",
       "      <td>33.000000</td>\n",
       "      <td>1.000000</td>\n",
       "      <td>1.000000</td>\n",
       "    </tr>\n",
       "    <tr>\n",
       "      <th>75%</th>\n",
       "      <td>24.000000</td>\n",
       "      <td>3972.250000</td>\n",
       "      <td>4.000000</td>\n",
       "      <td>4.000000</td>\n",
       "      <td>42.000000</td>\n",
       "      <td>2.000000</td>\n",
       "      <td>1.000000</td>\n",
       "    </tr>\n",
       "    <tr>\n",
       "      <th>max</th>\n",
       "      <td>72.000000</td>\n",
       "      <td>18424.000000</td>\n",
       "      <td>4.000000</td>\n",
       "      <td>4.000000</td>\n",
       "      <td>75.000000</td>\n",
       "      <td>4.000000</td>\n",
       "      <td>2.000000</td>\n",
       "    </tr>\n",
       "  </tbody>\n",
       "</table>\n",
       "</div>"
      ],
      "text/plain": [
       "          duration  credit_amount  installment_commitment  residence_since          age  existing_credits  num_dependents\n",
       "count  1000.000000    1000.000000             1000.000000      1000.000000  1000.000000       1000.000000     1000.000000\n",
       "mean     20.903000    3271.258000                2.973000         2.845000    35.546000          1.407000        1.155000\n",
       "std      12.058814    2822.736876                1.118715         1.103718    11.375469          0.577654        0.362086\n",
       "min       4.000000     250.000000                1.000000         1.000000    19.000000          1.000000        1.000000\n",
       "25%      12.000000    1365.500000                2.000000         2.000000    27.000000          1.000000        1.000000\n",
       "50%      18.000000    2319.500000                3.000000         3.000000    33.000000          1.000000        1.000000\n",
       "75%      24.000000    3972.250000                4.000000         4.000000    42.000000          2.000000        1.000000\n",
       "max      72.000000   18424.000000                4.000000         4.000000    75.000000          4.000000        2.000000"
      ]
     },
     "execution_count": 3,
     "metadata": {},
     "output_type": "execute_result"
    }
   ],
   "source": [
    "data_raw.describe()"
   ]
  },
  {
   "cell_type": "code",
   "execution_count": null,
   "metadata": {
    "collapsed": true
   },
   "outputs": [],
   "source": []
  },
  {
   "cell_type": "code",
   "execution_count": 4,
   "metadata": {
    "collapsed": true
   },
   "outputs": [],
   "source": [
    "col_target = 'class'\n",
    "cols_numeric = list(data_raw.describe().columns.values)\n",
    "cols_categoric = list(set(data_raw.columns.values) - set(cols_numeric) - set([col_target]))"
   ]
  },
  {
   "cell_type": "code",
   "execution_count": 5,
   "metadata": {},
   "outputs": [
    {
     "data": {
      "text/plain": [
       "['savings_status',\n",
       " 'credit_history',\n",
       " 'purpose',\n",
       " 'personal_status',\n",
       " 'other_parties',\n",
       " 'other_payment_plans',\n",
       " 'housing',\n",
       " 'job',\n",
       " 'account_balance',\n",
       " 'own_telephone',\n",
       " 'property_magnitude',\n",
       " 'employment',\n",
       " 'foreign']"
      ]
     },
     "execution_count": 5,
     "metadata": {},
     "output_type": "execute_result"
    }
   ],
   "source": [
    "cols_categoric"
   ]
  },
  {
   "cell_type": "code",
   "execution_count": null,
   "metadata": {
    "collapsed": true
   },
   "outputs": [],
   "source": []
  },
  {
   "cell_type": "code",
   "execution_count": 6,
   "metadata": {},
   "outputs": [
    {
     "data": {
      "text/html": [
       "<div>\n",
       "<style>\n",
       "    .dataframe thead tr:only-child th {\n",
       "        text-align: right;\n",
       "    }\n",
       "\n",
       "    .dataframe thead th {\n",
       "        text-align: left;\n",
       "    }\n",
       "\n",
       "    .dataframe tbody tr th {\n",
       "        vertical-align: top;\n",
       "    }\n",
       "</style>\n",
       "<table border=\"1\" class=\"dataframe\">\n",
       "  <thead>\n",
       "    <tr style=\"text-align: right;\">\n",
       "      <th>account_balance</th>\n",
       "      <th>'0&lt;=X&lt;200'</th>\n",
       "      <th>'&lt;0'</th>\n",
       "      <th>'&gt;=200'</th>\n",
       "      <th>'no account'</th>\n",
       "      <th>All</th>\n",
       "    </tr>\n",
       "    <tr>\n",
       "      <th>class</th>\n",
       "      <th></th>\n",
       "      <th></th>\n",
       "      <th></th>\n",
       "      <th></th>\n",
       "      <th></th>\n",
       "    </tr>\n",
       "  </thead>\n",
       "  <tbody>\n",
       "    <tr>\n",
       "      <th>bad</th>\n",
       "      <td>105</td>\n",
       "      <td>135</td>\n",
       "      <td>14</td>\n",
       "      <td>46</td>\n",
       "      <td>300</td>\n",
       "    </tr>\n",
       "    <tr>\n",
       "      <th>good</th>\n",
       "      <td>164</td>\n",
       "      <td>139</td>\n",
       "      <td>49</td>\n",
       "      <td>348</td>\n",
       "      <td>700</td>\n",
       "    </tr>\n",
       "    <tr>\n",
       "      <th>All</th>\n",
       "      <td>269</td>\n",
       "      <td>274</td>\n",
       "      <td>63</td>\n",
       "      <td>394</td>\n",
       "      <td>1000</td>\n",
       "    </tr>\n",
       "  </tbody>\n",
       "</table>\n",
       "</div>"
      ],
      "text/plain": [
       "account_balance  '0<=X<200'  '<0'  '>=200'  'no account'   All\n",
       "class                                                         \n",
       "bad                     105   135       14            46   300\n",
       "good                    164   139       49           348   700\n",
       "All                     269   274       63           394  1000"
      ]
     },
     "execution_count": 6,
     "metadata": {},
     "output_type": "execute_result"
    }
   ],
   "source": [
    "# Contingency table\n",
    "pd.crosstab(data_raw['class'], data_raw['account_balance'],  margins=True)"
   ]
  },
  {
   "cell_type": "code",
   "execution_count": 7,
   "metadata": {},
   "outputs": [
    {
     "data": {
      "text/html": [
       "<div>\n",
       "<style>\n",
       "    .dataframe thead tr:only-child th {\n",
       "        text-align: right;\n",
       "    }\n",
       "\n",
       "    .dataframe thead th {\n",
       "        text-align: left;\n",
       "    }\n",
       "\n",
       "    .dataframe tbody tr th {\n",
       "        vertical-align: top;\n",
       "    }\n",
       "</style>\n",
       "<table border=\"1\" class=\"dataframe\">\n",
       "  <thead>\n",
       "    <tr style=\"text-align: right;\">\n",
       "      <th>account_balance</th>\n",
       "      <th>'0&lt;=X&lt;200'</th>\n",
       "      <th>'&lt;0'</th>\n",
       "      <th>'&gt;=200'</th>\n",
       "      <th>'no account'</th>\n",
       "    </tr>\n",
       "    <tr>\n",
       "      <th>class</th>\n",
       "      <th></th>\n",
       "      <th></th>\n",
       "      <th></th>\n",
       "      <th></th>\n",
       "    </tr>\n",
       "  </thead>\n",
       "  <tbody>\n",
       "    <tr>\n",
       "      <th>bad</th>\n",
       "      <td>0.350000</td>\n",
       "      <td>0.450000</td>\n",
       "      <td>0.046667</td>\n",
       "      <td>0.153333</td>\n",
       "    </tr>\n",
       "    <tr>\n",
       "      <th>good</th>\n",
       "      <td>0.234286</td>\n",
       "      <td>0.198571</td>\n",
       "      <td>0.070000</td>\n",
       "      <td>0.497143</td>\n",
       "    </tr>\n",
       "  </tbody>\n",
       "</table>\n",
       "</div>"
      ],
      "text/plain": [
       "account_balance  '0<=X<200'      '<0'   '>=200'  'no account'\n",
       "class                                                        \n",
       "bad                0.350000  0.450000  0.046667      0.153333\n",
       "good               0.234286  0.198571  0.070000      0.497143"
      ]
     },
     "execution_count": 7,
     "metadata": {},
     "output_type": "execute_result"
    }
   ],
   "source": [
    "# Contingency table, ratios. Rows add-up to 100%\n",
    "pd.crosstab(data_raw['class'], data_raw['account_balance'],  margins=False, normalize='index')"
   ]
  },
  {
   "cell_type": "code",
   "execution_count": 8,
   "metadata": {},
   "outputs": [
    {
     "data": {
      "text/html": [
       "<div>\n",
       "<style>\n",
       "    .dataframe thead tr:only-child th {\n",
       "        text-align: right;\n",
       "    }\n",
       "\n",
       "    .dataframe thead th {\n",
       "        text-align: left;\n",
       "    }\n",
       "\n",
       "    .dataframe tbody tr th {\n",
       "        vertical-align: top;\n",
       "    }\n",
       "</style>\n",
       "<table border=\"1\" class=\"dataframe\">\n",
       "  <thead>\n",
       "    <tr style=\"text-align: right;\">\n",
       "      <th>account_balance</th>\n",
       "      <th>'0&lt;=X&lt;200'</th>\n",
       "      <th>'&lt;0'</th>\n",
       "      <th>'&gt;=200'</th>\n",
       "      <th>'no account'</th>\n",
       "    </tr>\n",
       "    <tr>\n",
       "      <th>class</th>\n",
       "      <th></th>\n",
       "      <th></th>\n",
       "      <th></th>\n",
       "      <th></th>\n",
       "    </tr>\n",
       "  </thead>\n",
       "  <tbody>\n",
       "    <tr>\n",
       "      <th>bad</th>\n",
       "      <td>0.390335</td>\n",
       "      <td>0.492701</td>\n",
       "      <td>0.222222</td>\n",
       "      <td>0.116751</td>\n",
       "    </tr>\n",
       "    <tr>\n",
       "      <th>good</th>\n",
       "      <td>0.609665</td>\n",
       "      <td>0.507299</td>\n",
       "      <td>0.777778</td>\n",
       "      <td>0.883249</td>\n",
       "    </tr>\n",
       "  </tbody>\n",
       "</table>\n",
       "</div>"
      ],
      "text/plain": [
       "account_balance  '0<=X<200'      '<0'   '>=200'  'no account'\n",
       "class                                                        \n",
       "bad                0.390335  0.492701  0.222222      0.116751\n",
       "good               0.609665  0.507299  0.777778      0.883249"
      ]
     },
     "execution_count": 8,
     "metadata": {},
     "output_type": "execute_result"
    }
   ],
   "source": [
    "# Contingency table, ratios. Columns add-up to 100%\n",
    "pd.crosstab(data_raw['class'], data_raw['account_balance'],  margins=False, normalize='columns')"
   ]
  },
  {
   "cell_type": "code",
   "execution_count": null,
   "metadata": {
    "collapsed": true
   },
   "outputs": [],
   "source": []
  },
  {
   "cell_type": "code",
   "execution_count": 9,
   "metadata": {},
   "outputs": [
    {
     "name": "stdout",
     "output_type": "stream",
     "text": [
      "p-value: 1.21890207229e-26 \t variable: account_balance\n"
     ]
    }
   ],
   "source": [
    "contingency = pd.crosstab(data_raw['class'], data_raw['account_balance'])\n",
    "c, pval, dof, expected = chi2_contingency(contingency)\n",
    "print(\"p-value:\",pval, '\\t variable:', 'account_balance')"
   ]
  },
  {
   "cell_type": "code",
   "execution_count": 10,
   "metadata": {},
   "outputs": [
    {
     "name": "stdout",
     "output_type": "stream",
     "text": [
      "p-value: 2.76121423857e-07 \t variable: savings_status\n",
      "p-value: 1.27918729568e-12 \t variable: credit_history\n",
      "p-value: 0.000115749100797 \t variable: purpose\n",
      "p-value: 0.0222380054693 \t variable: personal_status\n",
      "p-value: 0.0360559540272 \t variable: other_parties\n",
      "p-value: 0.00162931781865 \t variable: other_payment_plans\n",
      "p-value: 0.000111674653746 \t variable: housing\n",
      "p-value: 0.596581591884 \t variable: job\n",
      "p-value: 1.21890207229e-26 \t variable: account_balance\n",
      "p-value: 0.278876154304 \t variable: own_telephone\n",
      "p-value: 2.85844157333e-05 \t variable: property_magnitude\n",
      "p-value: 0.00104545234914 \t variable: employment\n",
      "p-value: 0.0158307549029 \t variable: foreign\n"
     ]
    }
   ],
   "source": [
    "for col in cols_categoric:\n",
    "    contingency = pd.crosstab(data_raw['class'], data_raw[col])\n",
    "    c, pval, dof, expected = chi2_contingency(contingency)\n",
    "    print(\"p-value:\",pval, '\\t variable:', col)"
   ]
  },
  {
   "cell_type": "code",
   "execution_count": null,
   "metadata": {
    "collapsed": true
   },
   "outputs": [],
   "source": []
  },
  {
   "cell_type": "markdown",
   "metadata": {},
   "source": [
    "#### Descriptive Statistics for Numerical Predictors"
   ]
  },
  {
   "cell_type": "code",
   "execution_count": 11,
   "metadata": {},
   "outputs": [
    {
     "data": {
      "image/png": "[encoded data removed]",
      "text/plain": [
       "<matplotlib.figure.Figure at 0x1991e748>"
      ]
     },
     "metadata": {},
     "output_type": "display_data"
    }
   ],
   "source": [
    "# Correlation between numeric variables\n",
    "data_numeric = data_raw[cols_numeric].copy(deep=True)\n",
    "corr_mat = data_numeric.corr(method='pearson')\n",
    "cbar_ticks =np.linspace(-1,1,11)\n",
    "cmap = sns.diverging_palette(220, 10, as_cmap=True)\n",
    "plt.figure(figsize=[8,8])\n",
    "plt.xticks(fontsize=fontsz+2)\n",
    "plt.yticks(fontsize=fontsz+2)\n",
    "ax = sns.heatmap(corr_mat, cmap=cmap, vmin=-1, vmax=1, square=True, linewidths=.5, cbar_kws={\"shrink\": .5})\n",
    "cbar = ax.collections[0].colorbar\n",
    "cbar.set_ticks(cbar_ticks)\n",
    "cbar.set_ticklabels(cbar_ticks)\n",
    "plt.show()"
   ]
  },
  {
   "cell_type": "code",
   "execution_count": 12,
   "metadata": {},
   "outputs": [
    {
     "name": "stdout",
     "output_type": "stream",
     "text": [
      "                        duration  credit_amount  installment_commitment  residence_since       age  existing_credits  num_dependents\n",
      "duration                1.000000       0.624984                0.074749         0.034067 -0.036136         -0.011284       -0.023834\n",
      "credit_amount           0.624984       1.000000               -0.271316         0.028926  0.032716          0.020795        0.017142\n",
      "installment_commitment  0.074749      -0.271316                1.000000         0.049302  0.058266          0.021669       -0.071207\n",
      "residence_since         0.034067       0.028926                0.049302         1.000000  0.266419          0.089625        0.042643\n",
      "age                    -0.036136       0.032716                0.058266         0.266419  1.000000          0.149254        0.118201\n",
      "existing_credits       -0.011284       0.020795                0.021669         0.089625  0.149254          1.000000        0.109667\n",
      "num_dependents         -0.023834       0.017142               -0.071207         0.042643  0.118201          0.109667        1.000000\n"
     ]
    }
   ],
   "source": [
    "print (corr_mat)"
   ]
  },
  {
   "cell_type": "markdown",
   "metadata": {},
   "source": [
    "#### Histograms "
   ]
  },
  {
   "cell_type": "code",
   "execution_count": 13,
   "metadata": {},
   "outputs": [
    {
     "data": {
      "image/png": "[encoded data removed]",
      "text/plain": [
       "<matplotlib.figure.Figure at 0x1b982cc0>"
      ]
     },
     "metadata": {},
     "output_type": "display_data"
    }
   ],
   "source": [
    "brksCredits = np.linspace(0,80,11) # Bins for a nice looking histogram\n",
    "plt.figure(figsize=(10,5))\n",
    "plt.hist(data_raw['duration'], bins=brksCredits)\n",
    "plt.title('duration', fontsize=fontsz+4)\n",
    "plt.xlabel('Loan Period [Months]', fontsize=fontsz+2)\n",
    "plt.ylabel('Count', fontsize=fontsz+2)\n",
    "plt.xticks(fontsize=fontsz)\n",
    "plt.yticks(fontsize=fontsz)\n",
    "plt.show()"
   ]
  },
  {
   "cell_type": "code",
   "execution_count": 14,
   "metadata": {},
   "outputs": [
    {
     "data": {
      "image/png": "[encoded data removed]",
      "text/plain": [
       "<matplotlib.figure.Figure at 0x198dea20>"
      ]
     },
     "metadata": {},
     "output_type": "display_data"
    }
   ],
   "source": [
    "plt.figure(figsize=(5,5))\n",
    "plt.boxplot(data_raw['duration']) \n",
    "plt.title('duration boxplot', fontsize=fontsz+4)\n",
    "plt.xlabel('Credit Month', fontsize=fontsz+2) \n",
    "plt.ylabel('duration', fontsize=fontsz+2)\n",
    "plt.xticks(fontsize=fontsz)\n",
    "plt.yticks(fontsize=fontsz)\n",
    "plt.show()"
   ]
  },
  {
   "cell_type": "markdown",
   "metadata": {},
   "source": [
    "#### Preprocessing\n",
    "Dummy variables"
   ]
  },
  {
   "cell_type": "code",
   "execution_count": 15,
   "metadata": {},
   "outputs": [
    {
     "name": "stdout",
     "output_type": "stream",
     "text": [
      "Number of columns before dummy-variables:\t 21\n",
      "Number of columns after dummy-variables:\t 62\n"
     ]
    }
   ],
   "source": [
    "print (\"Number of columns before dummy-variables:\\t\", len(data_raw.columns.values))\n",
    "for i in cols_categoric:\n",
    "    dummy_ranks = pd.get_dummies(data_raw[i], prefix=i)\n",
    "    data_raw = data_raw.join(dummy_ranks)\n",
    "    # dropping the original categoric column (not needed - it was replaced by dummy columns)\n",
    "    data_raw = data_raw.drop(i, 1) \n",
    "    \n",
    "# all feature, numeric, and categoric (now dummified)\n",
    "cols_features = list(set(data_raw.columns.values) - set([col_target])) \n",
    "print (\"Number of columns after dummy-variables:\\t\", len(data_raw.columns.values))"
   ]
  },
  {
   "cell_type": "code",
   "execution_count": 16,
   "metadata": {
    "collapsed": true
   },
   "outputs": [],
   "source": [
    "# Replacing calss variable with numeric values (for convinience)\n",
    "data_raw['class'].replace('bad', 0, inplace=True)\n",
    "data_raw['class'].replace('good', 1, inplace=True)\n",
    "data_raw['class'] = pd.to_numeric(data_raw['class'])"
   ]
  },
  {
   "cell_type": "code",
   "execution_count": 17,
   "metadata": {},
   "outputs": [
    {
     "name": "stdout",
     "output_type": "stream",
     "text": [
      "Class ratios between each set:\n",
      "Trainset\n",
      "\t\tNormal class (good): 71.25 %\t Target class (bad): 28.75 %\n",
      "Testset\n",
      "\t\tNormal class (good): 65.0 %\t Target class (bad): 35.0 %\n"
     ]
    }
   ],
   "source": [
    "# Random seed\n",
    "seed = 1017\n",
    "random.seed(seed)\n",
    "frac_train = 0.8 # 80% of the data is used for training\n",
    "X_train, X_test, y_train, y_test = \\\n",
    "    train_test_split(data_raw[cols_features], data_raw[col_target], test_size=(1-frac_train), random_state=seed)\n",
    "    \n",
    "train_b = sum(y_train == 0)\n",
    "train_g = sum(y_train == 1)\n",
    "test_b = sum(y_test == 0)\n",
    "test_g = sum(y_test == 1)\n",
    "print (\"Class ratios between each set:\")\n",
    "print (\"Trainset\")\n",
    "print (\"\\t\\tNormal class (good):\", 100*train_g/len(y_train), \"%\\t\", \"Target class (bad):\", 100*train_b/len(y_train),\"%\")\n",
    "print (\"Testset\")\n",
    "print (\"\\t\\tNormal class (good):\", 100*test_g/len(y_test), \"%\\t\", \"Target class (bad):\", 100*test_b/len(y_test),\"%\")"
   ]
  },
  {
   "cell_type": "code",
   "execution_count": 18,
   "metadata": {
    "collapsed": true
   },
   "outputs": [],
   "source": [
    "# Set Misclassification loss weights\n",
    "c_tn = 0 # weight of true-negative\n",
    "c_tp = 0 # weight of true-positive\n",
    "c_fn = 1 # weight of false negative\n",
    "c_fp = 5 # weight of false positive"
   ]
  },
  {
   "cell_type": "markdown",
   "metadata": {},
   "source": [
    "### Logistic Regression Model\n",
    "More about Logistic Regression examples in python can be found here:<br>\n",
    "http://blog.yhat.com/posts/logistic-regression-python-rodeo.html"
   ]
  },
  {
   "cell_type": "code",
   "execution_count": 19,
   "metadata": {},
   "outputs": [
    {
     "data": {
      "text/plain": [
       "LogisticRegression(C=1.0, class_weight=None, dual=False, fit_intercept=True,\n",
       "          intercept_scaling=1, max_iter=100, multi_class='ovr', n_jobs=1,\n",
       "          penalty='l2', random_state=None, solver='liblinear', tol=0.0001,\n",
       "          verbose=0, warm_start=False)"
      ]
     },
     "execution_count": 19,
     "metadata": {},
     "output_type": "execute_result"
    }
   ],
   "source": [
    "model = linear_model.LogisticRegression()\n",
    "model.fit(X_train, y_train)"
   ]
  },
  {
   "cell_type": "code",
   "execution_count": 20,
   "metadata": {},
   "outputs": [
    {
     "name": "stdout",
     "output_type": "stream",
     "text": [
      "Mean Square Error:  0.007225\n"
     ]
    }
   ],
   "source": [
    "mse = np.mean(y_train - model.predict(X_train)) ** 2\n",
    "print (\"Mean Square Error: \", mse)"
   ]
  },
  {
   "cell_type": "code",
   "execution_count": 21,
   "metadata": {
    "scrolled": false
   },
   "outputs": [
    {
     "data": {
      "text/html": [
       "<div>\n",
       "<style>\n",
       "    .dataframe thead tr:only-child th {\n",
       "        text-align: right;\n",
       "    }\n",
       "\n",
       "    .dataframe thead th {\n",
       "        text-align: left;\n",
       "    }\n",
       "\n",
       "    .dataframe tbody tr th {\n",
       "        vertical-align: top;\n",
       "    }\n",
       "</style>\n",
       "<table border=\"1\" class=\"dataframe\">\n",
       "  <thead>\n",
       "    <tr style=\"text-align: right;\">\n",
       "      <th></th>\n",
       "      <th>feature</th>\n",
       "      <th>LGM_coeff</th>\n",
       "    </tr>\n",
       "  </thead>\n",
       "  <tbody>\n",
       "    <tr>\n",
       "      <th>5</th>\n",
       "      <td>purpose_'used car'</td>\n",
       "      <td>1.0312</td>\n",
       "    </tr>\n",
       "    <tr>\n",
       "      <th>38</th>\n",
       "      <td>account_balance_'no account'</td>\n",
       "      <td>0.969984</td>\n",
       "    </tr>\n",
       "    <tr>\n",
       "      <th>7</th>\n",
       "      <td>credit_history_'critical/other existing credit'</td>\n",
       "      <td>0.851905</td>\n",
       "    </tr>\n",
       "    <tr>\n",
       "      <th>27</th>\n",
       "      <td>foreign_no</td>\n",
       "      <td>0.711358</td>\n",
       "    </tr>\n",
       "    <tr>\n",
       "      <th>21</th>\n",
       "      <td>other_payment_plans_none</td>\n",
       "      <td>0.671081</td>\n",
       "    </tr>\n",
       "    <tr>\n",
       "      <th>52</th>\n",
       "      <td>other_parties_guarantor</td>\n",
       "      <td>0.662368</td>\n",
       "    </tr>\n",
       "    <tr>\n",
       "      <th>59</th>\n",
       "      <td>purpose_'new car'</td>\n",
       "      <td>-0.647897</td>\n",
       "    </tr>\n",
       "    <tr>\n",
       "      <th>47</th>\n",
       "      <td>employment_'4&lt;=X&lt;7'</td>\n",
       "      <td>0.606323</td>\n",
       "    </tr>\n",
       "    <tr>\n",
       "      <th>10</th>\n",
       "      <td>account_balance_'&lt;0'</td>\n",
       "      <td>-0.596515</td>\n",
       "    </tr>\n",
       "    <tr>\n",
       "      <th>29</th>\n",
       "      <td>purpose_education</td>\n",
       "      <td>-0.582857</td>\n",
       "    </tr>\n",
       "    <tr>\n",
       "      <th>55</th>\n",
       "      <td>personal_status_'male single'</td>\n",
       "      <td>0.562774</td>\n",
       "    </tr>\n",
       "    <tr>\n",
       "      <th>41</th>\n",
       "      <td>credit_history_'all paid'</td>\n",
       "      <td>-0.543934</td>\n",
       "    </tr>\n",
       "    <tr>\n",
       "      <th>1</th>\n",
       "      <td>savings_status_'no known savings'</td>\n",
       "      <td>0.510622</td>\n",
       "    </tr>\n",
       "    <tr>\n",
       "      <th>49</th>\n",
       "      <td>property_magnitude_'real estate'</td>\n",
       "      <td>0.469525</td>\n",
       "    </tr>\n",
       "    <tr>\n",
       "      <th>23</th>\n",
       "      <td>housing_'for free'</td>\n",
       "      <td>0.446007</td>\n",
       "    </tr>\n",
       "    <tr>\n",
       "      <th>11</th>\n",
       "      <td>account_balance_'&gt;=200'</td>\n",
       "      <td>0.414265</td>\n",
       "    </tr>\n",
       "    <tr>\n",
       "      <th>48</th>\n",
       "      <td>savings_status_'&lt;100'</td>\n",
       "      <td>-0.389956</td>\n",
       "    </tr>\n",
       "    <tr>\n",
       "      <th>44</th>\n",
       "      <td>own_telephone_yes</td>\n",
       "      <td>0.360696</td>\n",
       "    </tr>\n",
       "    <tr>\n",
       "      <th>56</th>\n",
       "      <td>purpose_other</td>\n",
       "      <td>0.315161</td>\n",
       "    </tr>\n",
       "    <tr>\n",
       "      <th>58</th>\n",
       "      <td>housing_own</td>\n",
       "      <td>0.310558</td>\n",
       "    </tr>\n",
       "    <tr>\n",
       "      <th>12</th>\n",
       "      <td>credit_history_'delayed previously'</td>\n",
       "      <td>0.301378</td>\n",
       "    </tr>\n",
       "    <tr>\n",
       "      <th>43</th>\n",
       "      <td>installment_commitment</td>\n",
       "      <td>-0.292692</td>\n",
       "    </tr>\n",
       "    <tr>\n",
       "      <th>32</th>\n",
       "      <td>purpose_furniture/equipment</td>\n",
       "      <td>0.257774</td>\n",
       "    </tr>\n",
       "    <tr>\n",
       "      <th>4</th>\n",
       "      <td>savings_status_'&gt;=1000'</td>\n",
       "      <td>0.251689</td>\n",
       "    </tr>\n",
       "    <tr>\n",
       "      <th>3</th>\n",
       "      <td>own_telephone_none</td>\n",
       "      <td>0.235995</td>\n",
       "    </tr>\n",
       "    <tr>\n",
       "      <th>18</th>\n",
       "      <td>property_magnitude_'no known property'</td>\n",
       "      <td>-0.229221</td>\n",
       "    </tr>\n",
       "    <tr>\n",
       "      <th>31</th>\n",
       "      <td>job_'unskilled resident'</td>\n",
       "      <td>0.229181</td>\n",
       "    </tr>\n",
       "    <tr>\n",
       "      <th>46</th>\n",
       "      <td>job_'unemp/unskilled non res'</td>\n",
       "      <td>0.222663</td>\n",
       "    </tr>\n",
       "    <tr>\n",
       "      <th>9</th>\n",
       "      <td>property_magnitude_'life insurance'</td>\n",
       "      <td>0.205631</td>\n",
       "    </tr>\n",
       "    <tr>\n",
       "      <th>17</th>\n",
       "      <td>purpose_business</td>\n",
       "      <td>0.203991</td>\n",
       "    </tr>\n",
       "    <tr>\n",
       "      <th>14</th>\n",
       "      <td>account_balance_'0&lt;=X&lt;200'</td>\n",
       "      <td>-0.191044</td>\n",
       "    </tr>\n",
       "    <tr>\n",
       "      <th>8</th>\n",
       "      <td>purpose_radio/tv</td>\n",
       "      <td>0.188303</td>\n",
       "    </tr>\n",
       "    <tr>\n",
       "      <th>53</th>\n",
       "      <td>existing_credits</td>\n",
       "      <td>-0.18346</td>\n",
       "    </tr>\n",
       "    <tr>\n",
       "      <th>40</th>\n",
       "      <td>num_dependents</td>\n",
       "      <td>-0.178634</td>\n",
       "    </tr>\n",
       "    <tr>\n",
       "      <th>35</th>\n",
       "      <td>personal_status_'male mar/wid'</td>\n",
       "      <td>0.165316</td>\n",
       "    </tr>\n",
       "    <tr>\n",
       "      <th>13</th>\n",
       "      <td>housing_rent</td>\n",
       "      <td>-0.159874</td>\n",
       "    </tr>\n",
       "    <tr>\n",
       "      <th>51</th>\n",
       "      <td>purpose_repairs</td>\n",
       "      <td>-0.158124</td>\n",
       "    </tr>\n",
       "    <tr>\n",
       "      <th>26</th>\n",
       "      <td>employment_'&lt;1'</td>\n",
       "      <td>-0.156418</td>\n",
       "    </tr>\n",
       "    <tr>\n",
       "      <th>39</th>\n",
       "      <td>property_magnitude_car</td>\n",
       "      <td>0.150756</td>\n",
       "    </tr>\n",
       "    <tr>\n",
       "      <th>2</th>\n",
       "      <td>credit_history_'no credits/all paid'</td>\n",
       "      <td>-0.149717</td>\n",
       "    </tr>\n",
       "    <tr>\n",
       "      <th>36</th>\n",
       "      <td>credit_history_'existing paid'</td>\n",
       "      <td>0.137059</td>\n",
       "    </tr>\n",
       "    <tr>\n",
       "      <th>6</th>\n",
       "      <td>employment_unemployed</td>\n",
       "      <td>0.134447</td>\n",
       "    </tr>\n",
       "    <tr>\n",
       "      <th>57</th>\n",
       "      <td>savings_status_'500&lt;=X&lt;1000'</td>\n",
       "      <td>0.130725</td>\n",
       "    </tr>\n",
       "    <tr>\n",
       "      <th>30</th>\n",
       "      <td>other_payment_plans_bank</td>\n",
       "      <td>-0.117851</td>\n",
       "    </tr>\n",
       "    <tr>\n",
       "      <th>28</th>\n",
       "      <td>foreign_yes</td>\n",
       "      <td>-0.114667</td>\n",
       "    </tr>\n",
       "    <tr>\n",
       "      <th>24</th>\n",
       "      <td>personal_status_'male div/sep'</td>\n",
       "      <td>-0.113281</td>\n",
       "    </tr>\n",
       "    <tr>\n",
       "      <th>37</th>\n",
       "      <td>job_'high qualif/self emp/mgmt'</td>\n",
       "      <td>0.109715</td>\n",
       "    </tr>\n",
       "    <tr>\n",
       "      <th>20</th>\n",
       "      <td>purpose_'domestic appliance'</td>\n",
       "      <td>-0.101087</td>\n",
       "    </tr>\n",
       "    <tr>\n",
       "      <th>0</th>\n",
       "      <td>savings_status_'100&lt;=X&lt;500'</td>\n",
       "      <td>0.0936111</td>\n",
       "    </tr>\n",
       "    <tr>\n",
       "      <th>16</th>\n",
       "      <td>purpose_retraining</td>\n",
       "      <td>0.0902311</td>\n",
       "    </tr>\n",
       "    <tr>\n",
       "      <th>19</th>\n",
       "      <td>employment_'1&lt;=X&lt;4'</td>\n",
       "      <td>0.0612872</td>\n",
       "    </tr>\n",
       "    <tr>\n",
       "      <th>22</th>\n",
       "      <td>employment_'&gt;=7'</td>\n",
       "      <td>-0.0489479</td>\n",
       "    </tr>\n",
       "    <tr>\n",
       "      <th>54</th>\n",
       "      <td>other_payment_plans_stores</td>\n",
       "      <td>0.0434612</td>\n",
       "    </tr>\n",
       "    <tr>\n",
       "      <th>15</th>\n",
       "      <td>residence_since</td>\n",
       "      <td>0.0425153</td>\n",
       "    </tr>\n",
       "    <tr>\n",
       "      <th>60</th>\n",
       "      <td>job_skilled</td>\n",
       "      <td>0.0351322</td>\n",
       "    </tr>\n",
       "    <tr>\n",
       "      <th>34</th>\n",
       "      <td>other_parties_none</td>\n",
       "      <td>-0.0329857</td>\n",
       "    </tr>\n",
       "    <tr>\n",
       "      <th>45</th>\n",
       "      <td>other_parties_'co applicant'</td>\n",
       "      <td>-0.0326917</td>\n",
       "    </tr>\n",
       "    <tr>\n",
       "      <th>50</th>\n",
       "      <td>duration</td>\n",
       "      <td>-0.0307268</td>\n",
       "    </tr>\n",
       "    <tr>\n",
       "      <th>25</th>\n",
       "      <td>age</td>\n",
       "      <td>0.0198751</td>\n",
       "    </tr>\n",
       "    <tr>\n",
       "      <th>33</th>\n",
       "      <td>personal_status_'female div/dep/mar'</td>\n",
       "      <td>-0.0181178</td>\n",
       "    </tr>\n",
       "    <tr>\n",
       "      <th>42</th>\n",
       "      <td>credit_amount</td>\n",
       "      <td>-9.31867e-05</td>\n",
       "    </tr>\n",
       "  </tbody>\n",
       "</table>\n",
       "</div>"
      ],
      "text/plain": [
       "                                            feature    LGM_coeff\n",
       "5                                purpose_'used car'       1.0312\n",
       "38                     account_balance_'no account'     0.969984\n",
       "7   credit_history_'critical/other existing credit'     0.851905\n",
       "27                                       foreign_no     0.711358\n",
       "21                         other_payment_plans_none     0.671081\n",
       "52                          other_parties_guarantor     0.662368\n",
       "59                                purpose_'new car'    -0.647897\n",
       "47                              employment_'4<=X<7'     0.606323\n",
       "10                             account_balance_'<0'    -0.596515\n",
       "29                                purpose_education    -0.582857\n",
       "55                    personal_status_'male single'     0.562774\n",
       "41                        credit_history_'all paid'    -0.543934\n",
       "1                 savings_status_'no known savings'     0.510622\n",
       "49                 property_magnitude_'real estate'     0.469525\n",
       "23                               housing_'for free'     0.446007\n",
       "11                          account_balance_'>=200'     0.414265\n",
       "48                            savings_status_'<100'    -0.389956\n",
       "44                                own_telephone_yes     0.360696\n",
       "56                                    purpose_other     0.315161\n",
       "58                                      housing_own     0.310558\n",
       "12              credit_history_'delayed previously'     0.301378\n",
       "43                           installment_commitment    -0.292692\n",
       "32                      purpose_furniture/equipment     0.257774\n",
       "4                           savings_status_'>=1000'     0.251689\n",
       "3                                own_telephone_none     0.235995\n",
       "18           property_magnitude_'no known property'    -0.229221\n",
       "31                         job_'unskilled resident'     0.229181\n",
       "46                    job_'unemp/unskilled non res'     0.222663\n",
       "9               property_magnitude_'life insurance'     0.205631\n",
       "17                                 purpose_business     0.203991\n",
       "14                       account_balance_'0<=X<200'    -0.191044\n",
       "8                                  purpose_radio/tv     0.188303\n",
       "53                                 existing_credits     -0.18346\n",
       "40                                   num_dependents    -0.178634\n",
       "35                   personal_status_'male mar/wid'     0.165316\n",
       "13                                     housing_rent    -0.159874\n",
       "51                                  purpose_repairs    -0.158124\n",
       "26                                  employment_'<1'    -0.156418\n",
       "39                           property_magnitude_car     0.150756\n",
       "2              credit_history_'no credits/all paid'    -0.149717\n",
       "36                   credit_history_'existing paid'     0.137059\n",
       "6                             employment_unemployed     0.134447\n",
       "57                     savings_status_'500<=X<1000'     0.130725\n",
       "30                         other_payment_plans_bank    -0.117851\n",
       "28                                      foreign_yes    -0.114667\n",
       "24                   personal_status_'male div/sep'    -0.113281\n",
       "37                  job_'high qualif/self emp/mgmt'     0.109715\n",
       "20                     purpose_'domestic appliance'    -0.101087\n",
       "0                       savings_status_'100<=X<500'    0.0936111\n",
       "16                               purpose_retraining    0.0902311\n",
       "19                              employment_'1<=X<4'    0.0612872\n",
       "22                                 employment_'>=7'   -0.0489479\n",
       "54                       other_payment_plans_stores    0.0434612\n",
       "15                                  residence_since    0.0425153\n",
       "60                                      job_skilled    0.0351322\n",
       "34                               other_parties_none   -0.0329857\n",
       "45                     other_parties_'co applicant'   -0.0326917\n",
       "50                                         duration   -0.0307268\n",
       "25                                              age    0.0198751\n",
       "33             personal_status_'female div/dep/mar'   -0.0181178\n",
       "42                                    credit_amount -9.31867e-05"
      ]
     },
     "metadata": {},
     "output_type": "display_data"
    }
   ],
   "source": [
    "model_coefficients = model.coef_[0]\n",
    "df_lgm_coeffs = pd.DataFrame(data=[list(cols_features), list(model_coefficients)]).transpose()\n",
    "df_lgm_coeffs.columns = ['feature', 'LGM_coeff']\n",
    "# sort by coefficients absolute value\n",
    "df_lgm_coeffs = df_lgm_coeffs.reindex(df_lgm_coeffs['LGM_coeff'].abs().sort_values(inplace=False, ascending=False).index)\n",
    "display(df_lgm_coeffs)"
   ]
  },
  {
   "cell_type": "code",
   "execution_count": 22,
   "metadata": {
    "collapsed": true
   },
   "outputs": [],
   "source": [
    "predicted = model.predict(X_test)\n",
    "predicted_prob = model.predict_proba(X_test)[:,1]"
   ]
  },
  {
   "cell_type": "code",
   "execution_count": 23,
   "metadata": {},
   "outputs": [
    {
     "name": "stdout",
     "output_type": "stream",
     "text": [
      "Area-Under-Curve: 0.8055\n"
     ]
    },
    {
     "data": {
      "image/png": "[encoded data removed]",
      "text/plain": [
       "<matplotlib.figure.Figure at 0x1b9d8710>"
      ]
     },
     "metadata": {},
     "output_type": "display_data"
    }
   ],
   "source": [
    "fpr, tpr, _ = metrics.roc_curve(np.array(y_test), predicted_prob)\n",
    "auc = metrics.auc(fpr,tpr)\n",
    "print (\"Area-Under-Curve:\", round(auc,4))\n",
    "# plot_ROC() is defined in helper_functions.py\n",
    "plot_ROC(fpr,tpr, fontsz, 'Receiver operating characteristic for Logistic Regression Model') "
   ]
  },
  {
   "cell_type": "code",
   "execution_count": 24,
   "metadata": {},
   "outputs": [
    {
     "name": "stdout",
     "output_type": "stream",
     "text": [
      "Optimal threshold at:\t 0.76214\n",
      "Model Loss: 354\n"
     ]
    }
   ],
   "source": [
    "# finding the optimal values using the TRAIN-SET\n",
    "train_predicted_prob = model.predict_proba(X_train)[:,1]\n",
    "loss_matrix = calculate_loss(train_predicted_prob, y_train, c_fn, c_fp, c_tp, c_tn) \n",
    "# finding optimal threshold:\n",
    "opt_thr = list(loss_matrix[loss_matrix['loss'] == loss_matrix['loss'].min()]['prediction'])[0]\n",
    "print(\"Optimal threshold at:\\t\",round(opt_thr,5))\n",
    "print(\"Model Loss:\", loss_matrix['loss'].min())\n",
    "loss = loss_matrix['loss'].min()\n",
    "predicted_prob_opt = copy.deepcopy(predicted_prob)\n",
    "predicted_prob_opt[predicted_prob_opt >  opt_thr] = 1\n",
    "predicted_prob_opt[predicted_prob_opt <= opt_thr] = 0"
   ]
  },
  {
   "cell_type": "code",
   "execution_count": 25,
   "metadata": {
    "collapsed": true
   },
   "outputs": [],
   "source": [
    "def_cfm = metrics.confusion_matrix(y_test, predicted) # default confusion matrix, default threshold = 0.5\n",
    "opt_cfm = metrics.confusion_matrix(y_test, predicted_prob_opt) # optimal threshold"
   ]
  },
  {
   "cell_type": "code",
   "execution_count": 26,
   "metadata": {},
   "outputs": [
    {
     "data": {
      "image/png": "[encoded data removed]",
      "text/plain": [
       "<matplotlib.figure.Figure at 0x1bab68d0>"
      ]
     },
     "metadata": {},
     "output_type": "display_data"
    },
    {
     "data": {
      "image/png": "[encoded data removed]",
      "text/plain": [
       "<matplotlib.figure.Figure at 0x1bab6e48>"
      ]
     },
     "metadata": {},
     "output_type": "display_data"
    }
   ],
   "source": [
    "plot_confusion_matrix(def_cfm,['bad', 'good'], \"Default Confusion Matrix\", 0)\n",
    "plot_confusion_matrix(opt_cfm,['bad', 'good'], \"Loss-Optimized Confusion Matrix\", 1)\n",
    "plt.show()"
   ]
  },
  {
   "cell_type": "code",
   "execution_count": 27,
   "metadata": {},
   "outputs": [
    {
     "data": {
      "image/png": "[encoded data removed]",
      "text/plain": [
       "<matplotlib.figure.Figure at 0x1bb39ac8>"
      ]
     },
     "metadata": {},
     "output_type": "display_data"
    }
   ],
   "source": [
    "plt.figure(figsize=(10,5), facecolor='white')\n",
    "plt.plot(loss_matrix['prediction'], loss_matrix['loss'], 'o-')\n",
    "plt.title('Loss function for various thresholds and confusion matrices', fontsize=fontsz+4)\n",
    "plt.xlabel('Threshold', fontsize=fontsz+4)\n",
    "plt.ylabel('Loss', fontsize=fontsz+4)\n",
    "plt.show()"
   ]
  },
  {
   "cell_type": "markdown",
   "metadata": {},
   "source": [
    "## Naive Bayes Model"
   ]
  },
  {
   "cell_type": "code",
   "execution_count": 28,
   "metadata": {
    "collapsed": true
   },
   "outputs": [],
   "source": [
    "gnb = BernoulliNB()\n",
    "model = gnb.fit(X_train, y_train)\n",
    "predicted = model.predict(X_test)\n",
    "predicted_prob = model.predict_proba(X_test)[:, 1]"
   ]
  },
  {
   "cell_type": "code",
   "execution_count": 29,
   "metadata": {
    "scrolled": false
   },
   "outputs": [
    {
     "data": {
      "text/html": [
       "<div>\n",
       "<style>\n",
       "    .dataframe thead tr:only-child th {\n",
       "        text-align: right;\n",
       "    }\n",
       "\n",
       "    .dataframe thead th {\n",
       "        text-align: left;\n",
       "    }\n",
       "\n",
       "    .dataframe tbody tr th {\n",
       "        vertical-align: top;\n",
       "    }\n",
       "</style>\n",
       "<table border=\"1\" class=\"dataframe\">\n",
       "  <thead>\n",
       "    <tr style=\"text-align: right;\">\n",
       "      <th></th>\n",
       "      <th>feature</th>\n",
       "      <th>coeff</th>\n",
       "    </tr>\n",
       "  </thead>\n",
       "  <tbody>\n",
       "    <tr>\n",
       "      <th>40</th>\n",
       "      <td>num_dependents</td>\n",
       "      <td>-0.00174978</td>\n",
       "    </tr>\n",
       "    <tr>\n",
       "      <th>53</th>\n",
       "      <td>existing_credits</td>\n",
       "      <td>-0.00174978</td>\n",
       "    </tr>\n",
       "    <tr>\n",
       "      <th>25</th>\n",
       "      <td>age</td>\n",
       "      <td>-0.00174978</td>\n",
       "    </tr>\n",
       "    <tr>\n",
       "      <th>42</th>\n",
       "      <td>credit_amount</td>\n",
       "      <td>-0.00174978</td>\n",
       "    </tr>\n",
       "    <tr>\n",
       "      <th>43</th>\n",
       "      <td>installment_commitment</td>\n",
       "      <td>-0.00174978</td>\n",
       "    </tr>\n",
       "    <tr>\n",
       "      <th>50</th>\n",
       "      <td>duration</td>\n",
       "      <td>-0.00174978</td>\n",
       "    </tr>\n",
       "    <tr>\n",
       "      <th>15</th>\n",
       "      <td>residence_since</td>\n",
       "      <td>-0.00174978</td>\n",
       "    </tr>\n",
       "    <tr>\n",
       "      <th>28</th>\n",
       "      <td>foreign_yes</td>\n",
       "      <td>-0.0575699</td>\n",
       "    </tr>\n",
       "    <tr>\n",
       "      <th>34</th>\n",
       "      <td>other_parties_none</td>\n",
       "      <td>-0.104972</td>\n",
       "    </tr>\n",
       "    <tr>\n",
       "      <th>21</th>\n",
       "      <td>other_payment_plans_none</td>\n",
       "      <td>-0.171195</td>\n",
       "    </tr>\n",
       "    <tr>\n",
       "      <th>58</th>\n",
       "      <td>housing_own</td>\n",
       "      <td>-0.301767</td>\n",
       "    </tr>\n",
       "    <tr>\n",
       "      <th>60</th>\n",
       "      <td>job_skilled</td>\n",
       "      <td>-0.468606</td>\n",
       "    </tr>\n",
       "    <tr>\n",
       "      <th>3</th>\n",
       "      <td>own_telephone_none</td>\n",
       "      <td>-0.526093</td>\n",
       "    </tr>\n",
       "    <tr>\n",
       "      <th>55</th>\n",
       "      <td>personal_status_'male single'</td>\n",
       "      <td>-0.565314</td>\n",
       "    </tr>\n",
       "    <tr>\n",
       "      <th>48</th>\n",
       "      <td>savings_status_'&lt;100'</td>\n",
       "      <td>-0.599746</td>\n",
       "    </tr>\n",
       "    <tr>\n",
       "      <th>36</th>\n",
       "      <td>credit_history_'existing paid'</td>\n",
       "      <td>-0.655407</td>\n",
       "    </tr>\n",
       "    <tr>\n",
       "      <th>38</th>\n",
       "      <td>account_balance_'no account'</td>\n",
       "      <td>-0.721518</td>\n",
       "    </tr>\n",
       "    <tr>\n",
       "      <th>44</th>\n",
       "      <td>own_telephone_yes</td>\n",
       "      <td>-0.893818</td>\n",
       "    </tr>\n",
       "    <tr>\n",
       "      <th>19</th>\n",
       "      <td>employment_'1&lt;=X&lt;4'</td>\n",
       "      <td>-1.05583</td>\n",
       "    </tr>\n",
       "    <tr>\n",
       "      <th>7</th>\n",
       "      <td>credit_history_'critical/other existing credit'</td>\n",
       "      <td>-1.06594</td>\n",
       "    </tr>\n",
       "    <tr>\n",
       "      <th>39</th>\n",
       "      <td>property_magnitude_car</td>\n",
       "      <td>-1.13965</td>\n",
       "    </tr>\n",
       "    <tr>\n",
       "      <th>49</th>\n",
       "      <td>property_magnitude_'real estate'</td>\n",
       "      <td>-1.15064</td>\n",
       "    </tr>\n",
       "    <tr>\n",
       "      <th>8</th>\n",
       "      <td>purpose_radio/tv</td>\n",
       "      <td>-1.17865</td>\n",
       "    </tr>\n",
       "    <tr>\n",
       "      <th>33</th>\n",
       "      <td>personal_status_'female div/dep/mar'</td>\n",
       "      <td>-1.24319</td>\n",
       "    </tr>\n",
       "    <tr>\n",
       "      <th>22</th>\n",
       "      <td>employment_'&gt;=7'</td>\n",
       "      <td>-1.35193</td>\n",
       "    </tr>\n",
       "    <tr>\n",
       "      <th>14</th>\n",
       "      <td>account_balance_'0&lt;=X&lt;200'</td>\n",
       "      <td>-1.42916</td>\n",
       "    </tr>\n",
       "    <tr>\n",
       "      <th>9</th>\n",
       "      <td>property_magnitude_'life insurance'</td>\n",
       "      <td>-1.45879</td>\n",
       "    </tr>\n",
       "    <tr>\n",
       "      <th>1</th>\n",
       "      <td>savings_status_'no known savings'</td>\n",
       "      <td>-1.48933</td>\n",
       "    </tr>\n",
       "    <tr>\n",
       "      <th>31</th>\n",
       "      <td>job_'unskilled resident'</td>\n",
       "      <td>-1.54512</td>\n",
       "    </tr>\n",
       "    <tr>\n",
       "      <th>10</th>\n",
       "      <td>account_balance_'&lt;0'</td>\n",
       "      <td>-1.57002</td>\n",
       "    </tr>\n",
       "    <tr>\n",
       "      <th>59</th>\n",
       "      <td>purpose_'new car'</td>\n",
       "      <td>-1.58697</td>\n",
       "    </tr>\n",
       "    <tr>\n",
       "      <th>47</th>\n",
       "      <td>employment_'4&lt;=X&lt;7'</td>\n",
       "      <td>-1.59555</td>\n",
       "    </tr>\n",
       "    <tr>\n",
       "      <th>32</th>\n",
       "      <td>purpose_furniture/equipment</td>\n",
       "      <td>-1.77443</td>\n",
       "    </tr>\n",
       "    <tr>\n",
       "      <th>13</th>\n",
       "      <td>housing_rent</td>\n",
       "      <td>-1.81654</td>\n",
       "    </tr>\n",
       "    <tr>\n",
       "      <th>37</th>\n",
       "      <td>job_'high qualif/self emp/mgmt'</td>\n",
       "      <td>-1.94242</td>\n",
       "    </tr>\n",
       "    <tr>\n",
       "      <th>26</th>\n",
       "      <td>employment_'&lt;1'</td>\n",
       "      <td>-1.94242</td>\n",
       "    </tr>\n",
       "    <tr>\n",
       "      <th>18</th>\n",
       "      <td>property_magnitude_'no known property'</td>\n",
       "      <td>-2.00533</td>\n",
       "    </tr>\n",
       "    <tr>\n",
       "      <th>5</th>\n",
       "      <td>purpose_'used car'</td>\n",
       "      <td>-2.04507</td>\n",
       "    </tr>\n",
       "    <tr>\n",
       "      <th>30</th>\n",
       "      <td>other_payment_plans_bank</td>\n",
       "      <td>-2.11503</td>\n",
       "    </tr>\n",
       "    <tr>\n",
       "      <th>0</th>\n",
       "      <td>savings_status_'100&lt;=X&lt;500'</td>\n",
       "      <td>-2.2716</td>\n",
       "    </tr>\n",
       "    <tr>\n",
       "      <th>35</th>\n",
       "      <td>personal_status_'male mar/wid'</td>\n",
       "      <td>-2.2716</td>\n",
       "    </tr>\n",
       "    <tr>\n",
       "      <th>23</th>\n",
       "      <td>housing_'for free'</td>\n",
       "      <td>-2.30609</td>\n",
       "    </tr>\n",
       "    <tr>\n",
       "      <th>17</th>\n",
       "      <td>purpose_business</td>\n",
       "      <td>-2.3979</td>\n",
       "    </tr>\n",
       "    <tr>\n",
       "      <th>12</th>\n",
       "      <td>credit_history_'delayed previously'</td>\n",
       "      <td>-2.47794</td>\n",
       "    </tr>\n",
       "    <tr>\n",
       "      <th>57</th>\n",
       "      <td>savings_status_'500&lt;=X&lt;1000'</td>\n",
       "      <td>-2.61147</td>\n",
       "    </tr>\n",
       "    <tr>\n",
       "      <th>11</th>\n",
       "      <td>account_balance_'&gt;=200'</td>\n",
       "      <td>-2.66026</td>\n",
       "    </tr>\n",
       "    <tr>\n",
       "      <th>52</th>\n",
       "      <td>other_parties_guarantor</td>\n",
       "      <td>-2.76562</td>\n",
       "    </tr>\n",
       "    <tr>\n",
       "      <th>27</th>\n",
       "      <td>foreign_no</td>\n",
       "      <td>-2.8834</td>\n",
       "    </tr>\n",
       "    <tr>\n",
       "      <th>4</th>\n",
       "      <td>savings_status_'&gt;=1000'</td>\n",
       "      <td>-2.91515</td>\n",
       "    </tr>\n",
       "    <tr>\n",
       "      <th>6</th>\n",
       "      <td>employment_unemployed</td>\n",
       "      <td>-2.94794</td>\n",
       "    </tr>\n",
       "    <tr>\n",
       "      <th>24</th>\n",
       "      <td>personal_status_'male div/sep'</td>\n",
       "      <td>-3.13026</td>\n",
       "    </tr>\n",
       "    <tr>\n",
       "      <th>29</th>\n",
       "      <td>purpose_education</td>\n",
       "      <td>-3.13026</td>\n",
       "    </tr>\n",
       "    <tr>\n",
       "      <th>54</th>\n",
       "      <td>other_payment_plans_stores</td>\n",
       "      <td>-3.2581</td>\n",
       "    </tr>\n",
       "    <tr>\n",
       "      <th>45</th>\n",
       "      <td>other_parties_'co applicant'</td>\n",
       "      <td>-3.2581</td>\n",
       "    </tr>\n",
       "    <tr>\n",
       "      <th>41</th>\n",
       "      <td>credit_history_'all paid'</td>\n",
       "      <td>-3.4047</td>\n",
       "    </tr>\n",
       "    <tr>\n",
       "      <th>51</th>\n",
       "      <td>purpose_repairs</td>\n",
       "      <td>-3.64109</td>\n",
       "    </tr>\n",
       "    <tr>\n",
       "      <th>2</th>\n",
       "      <td>credit_history_'no credits/all paid'</td>\n",
       "      <td>-3.71008</td>\n",
       "    </tr>\n",
       "    <tr>\n",
       "      <th>46</th>\n",
       "      <td>job_'unemp/unskilled non res'</td>\n",
       "      <td>-3.86423</td>\n",
       "    </tr>\n",
       "    <tr>\n",
       "      <th>16</th>\n",
       "      <td>purpose_retraining</td>\n",
       "      <td>-4.2697</td>\n",
       "    </tr>\n",
       "    <tr>\n",
       "      <th>56</th>\n",
       "      <td>purpose_other</td>\n",
       "      <td>-4.2697</td>\n",
       "    </tr>\n",
       "    <tr>\n",
       "      <th>20</th>\n",
       "      <td>purpose_'domestic appliance'</td>\n",
       "      <td>-4.2697</td>\n",
       "    </tr>\n",
       "  </tbody>\n",
       "</table>\n",
       "</div>"
      ],
      "text/plain": [
       "                                            feature       coeff\n",
       "40                                   num_dependents -0.00174978\n",
       "53                                 existing_credits -0.00174978\n",
       "25                                              age -0.00174978\n",
       "42                                    credit_amount -0.00174978\n",
       "43                           installment_commitment -0.00174978\n",
       "50                                         duration -0.00174978\n",
       "15                                  residence_since -0.00174978\n",
       "28                                      foreign_yes  -0.0575699\n",
       "34                               other_parties_none   -0.104972\n",
       "21                         other_payment_plans_none   -0.171195\n",
       "58                                      housing_own   -0.301767\n",
       "60                                      job_skilled   -0.468606\n",
       "3                                own_telephone_none   -0.526093\n",
       "55                    personal_status_'male single'   -0.565314\n",
       "48                            savings_status_'<100'   -0.599746\n",
       "36                   credit_history_'existing paid'   -0.655407\n",
       "38                     account_balance_'no account'   -0.721518\n",
       "44                                own_telephone_yes   -0.893818\n",
       "19                              employment_'1<=X<4'    -1.05583\n",
       "7   credit_history_'critical/other existing credit'    -1.06594\n",
       "39                           property_magnitude_car    -1.13965\n",
       "49                 property_magnitude_'real estate'    -1.15064\n",
       "8                                  purpose_radio/tv    -1.17865\n",
       "33             personal_status_'female div/dep/mar'    -1.24319\n",
       "22                                 employment_'>=7'    -1.35193\n",
       "14                       account_balance_'0<=X<200'    -1.42916\n",
       "9               property_magnitude_'life insurance'    -1.45879\n",
       "1                 savings_status_'no known savings'    -1.48933\n",
       "31                         job_'unskilled resident'    -1.54512\n",
       "10                             account_balance_'<0'    -1.57002\n",
       "59                                purpose_'new car'    -1.58697\n",
       "47                              employment_'4<=X<7'    -1.59555\n",
       "32                      purpose_furniture/equipment    -1.77443\n",
       "13                                     housing_rent    -1.81654\n",
       "37                  job_'high qualif/self emp/mgmt'    -1.94242\n",
       "26                                  employment_'<1'    -1.94242\n",
       "18           property_magnitude_'no known property'    -2.00533\n",
       "5                                purpose_'used car'    -2.04507\n",
       "30                         other_payment_plans_bank    -2.11503\n",
       "0                       savings_status_'100<=X<500'     -2.2716\n",
       "35                   personal_status_'male mar/wid'     -2.2716\n",
       "23                               housing_'for free'    -2.30609\n",
       "17                                 purpose_business     -2.3979\n",
       "12              credit_history_'delayed previously'    -2.47794\n",
       "57                     savings_status_'500<=X<1000'    -2.61147\n",
       "11                          account_balance_'>=200'    -2.66026\n",
       "52                          other_parties_guarantor    -2.76562\n",
       "27                                       foreign_no     -2.8834\n",
       "4                           savings_status_'>=1000'    -2.91515\n",
       "6                             employment_unemployed    -2.94794\n",
       "24                   personal_status_'male div/sep'    -3.13026\n",
       "29                                purpose_education    -3.13026\n",
       "54                       other_payment_plans_stores     -3.2581\n",
       "45                     other_parties_'co applicant'     -3.2581\n",
       "41                        credit_history_'all paid'     -3.4047\n",
       "51                                  purpose_repairs    -3.64109\n",
       "2              credit_history_'no credits/all paid'    -3.71008\n",
       "46                    job_'unemp/unskilled non res'    -3.86423\n",
       "16                               purpose_retraining     -4.2697\n",
       "56                                    purpose_other     -4.2697\n",
       "20                     purpose_'domestic appliance'     -4.2697"
      ]
     },
     "metadata": {},
     "output_type": "display_data"
    }
   ],
   "source": [
    "model_coefficients = model.coef_[0]\n",
    "df_coeffs = pd.DataFrame(data=[list(cols_features), list(model_coefficients)]).transpose()\n",
    "df_coeffs.columns = ['feature', 'coeff']\n",
    "# sort by coefficients absolute value (log probability of the positive class)\n",
    "df_coeffs = df_coeffs.reindex(df_coeffs['coeff'].abs().sort_values(inplace=False, ascending=True).index)\n",
    "display(df_coeffs)"
   ]
  },
  {
   "cell_type": "code",
   "execution_count": 30,
   "metadata": {},
   "outputs": [
    {
     "name": "stdout",
     "output_type": "stream",
     "text": [
      "Area-Under-Curve: 0.8127\n"
     ]
    },
    {
     "data": {
      "image/png": "[encoded data removed]",
      "text/plain": [
       "<matplotlib.figure.Figure at 0x1bd3af60>"
      ]
     },
     "metadata": {},
     "output_type": "display_data"
    }
   ],
   "source": [
    "fpr, tpr, _ = metrics.roc_curve(np.array(y_test), predicted_prob)\n",
    "auc = metrics.auc(fpr,tpr)\n",
    "print (\"Area-Under-Curve:\", round(auc,4))\n",
    "plot_ROC(fpr,tpr, fontsz, 'Receiver operating characteristic for Naive Bayes Model') "
   ]
  },
  {
   "cell_type": "code",
   "execution_count": 31,
   "metadata": {},
   "outputs": [
    {
     "name": "stdout",
     "output_type": "stream",
     "text": [
      "Optimal threshold at:\t 0.89736\n",
      "Model Loss: 395\n"
     ]
    }
   ],
   "source": [
    "# finding the optimal values using the TRAIN-SET\n",
    "train_predicted_prob = model.predict_proba(X_train)[:,1]\n",
    "loss_matrix = calculate_loss(train_predicted_prob, y_train, c_fn, c_fp, c_tp, c_tn) \n",
    "# finding optimal threshold:\n",
    "opt_thr = list(loss_matrix[loss_matrix['loss'] == loss_matrix['loss'].min()]['prediction'])[0]\n",
    "print(\"Optimal threshold at:\\t\",round(opt_thr,5))\n",
    "loss = loss_matrix['loss'].min()\n",
    "print(\"Model Loss:\", loss)\n",
    "predicted_prob_opt = copy.deepcopy(predicted_prob)\n",
    "predicted_prob_opt[predicted_prob_opt >  opt_thr] = 1\n",
    "predicted_prob_opt[predicted_prob_opt <= opt_thr] = 0"
   ]
  },
  {
   "cell_type": "code",
   "execution_count": 32,
   "metadata": {
    "collapsed": true
   },
   "outputs": [],
   "source": [
    "def_cfm = metrics.confusion_matrix(y_test, predicted) \n",
    "opt_cfm = metrics.confusion_matrix(y_test, predicted_prob_opt) # optimal threshold"
   ]
  },
  {
   "cell_type": "code",
   "execution_count": 33,
   "metadata": {},
   "outputs": [
    {
     "data": {
      "image/png": "[encoded data removed]",
      "text/plain": [
       "<matplotlib.figure.Figure at 0x1bab63c8>"
      ]
     },
     "metadata": {},
     "output_type": "display_data"
    },
    {
     "data": {
      "image/png": "[encoded data removed]",
      "text/plain": [
       "<matplotlib.figure.Figure at 0x1bab6eb8>"
      ]
     },
     "metadata": {},
     "output_type": "display_data"
    }
   ],
   "source": [
    "plot_confusion_matrix(def_cfm,['bad', 'good'], \"Default Confusion Matrix\", 0)\n",
    "plot_confusion_matrix(opt_cfm,['bad', 'good'], \"Loss-Optimized Confusion Matrix\", 1)\n",
    "plt.show()"
   ]
  },
  {
   "cell_type": "code",
   "execution_count": null,
   "metadata": {
    "collapsed": true
   },
   "outputs": [],
   "source": []
  },
  {
   "cell_type": "markdown",
   "metadata": {},
   "source": [
    "## Decision Trees\n",
    "Decision Trees is a recursive-repartitioning technique, which is used to recursively split the data in order to create nodes that are<br>\n",
    "purer. A pure node is a node that consists of only 1-class of those existing in the data.<br>\n",
    "In our context, a pure node would be composed of either all-\"bad\" or all-\"good\" classes.<br>\n",
    "The advantages of DT is that it produces rules that are easy to follow, and human-readable, in contrast to other \"black-box\" algorithms, such as Random-Forest<br>\n",
    "DTs however, are prone to overfitting, which is why we need to use some parameters to avoid such behavior.<br>\n",
    "As with __Logistic Regression__, __DT__s also require categorical features to be dummified.<br>\n",
    "1. Based on what we discussed, can you offer an intuition about why DTs tend to overfit?\n",
    "2. [Advanced] Can you offer some ways to avoid overfitting?"
   ]
  },
  {
   "cell_type": "code",
   "execution_count": 34,
   "metadata": {
    "collapsed": true
   },
   "outputs": [],
   "source": [
    "md = 18                    # maximum tree depth\n",
    "mf = len(cols_features)    # maximum number of features to consider\n",
    "min_leaf = 10\n",
    "criterion = 'entropy'\n",
    "model = tree.DecisionTreeClassifier(max_depth=md, max_features=mf, criterion=criterion, \n",
    "                                    min_samples_leaf=min_leaf, random_state=seed)\n",
    "\n",
    "clf = model.fit(X_train, y_train)\n",
    "predicted = model.predict(X_test)\n",
    "predicted_prob = model.predict_proba(X_test)[:, 1]"
   ]
  },
  {
   "cell_type": "code",
   "execution_count": 35,
   "metadata": {},
   "outputs": [
    {
     "data": {
      "text/html": [
       "<div>\n",
       "<style>\n",
       "    .dataframe thead tr:only-child th {\n",
       "        text-align: right;\n",
       "    }\n",
       "\n",
       "    .dataframe thead th {\n",
       "        text-align: left;\n",
       "    }\n",
       "\n",
       "    .dataframe tbody tr th {\n",
       "        vertical-align: top;\n",
       "    }\n",
       "</style>\n",
       "<table border=\"1\" class=\"dataframe\">\n",
       "  <thead>\n",
       "    <tr style=\"text-align: right;\">\n",
       "      <th></th>\n",
       "      <th>feature</th>\n",
       "      <th>importance</th>\n",
       "    </tr>\n",
       "  </thead>\n",
       "  <tbody>\n",
       "    <tr>\n",
       "      <th>38</th>\n",
       "      <td>account_balance_'no account'</td>\n",
       "      <td>0.189165</td>\n",
       "    </tr>\n",
       "    <tr>\n",
       "      <th>42</th>\n",
       "      <td>credit_amount</td>\n",
       "      <td>0.111038</td>\n",
       "    </tr>\n",
       "    <tr>\n",
       "      <th>50</th>\n",
       "      <td>duration</td>\n",
       "      <td>0.108846</td>\n",
       "    </tr>\n",
       "    <tr>\n",
       "      <th>25</th>\n",
       "      <td>age</td>\n",
       "      <td>0.0793403</td>\n",
       "    </tr>\n",
       "    <tr>\n",
       "      <th>49</th>\n",
       "      <td>property_magnitude_'real estate'</td>\n",
       "      <td>0.0638102</td>\n",
       "    </tr>\n",
       "    <tr>\n",
       "      <th>21</th>\n",
       "      <td>other_payment_plans_none</td>\n",
       "      <td>0.0549898</td>\n",
       "    </tr>\n",
       "    <tr>\n",
       "      <th>8</th>\n",
       "      <td>purpose_radio/tv</td>\n",
       "      <td>0.0395279</td>\n",
       "    </tr>\n",
       "    <tr>\n",
       "      <th>47</th>\n",
       "      <td>employment_'4&lt;=X&lt;7'</td>\n",
       "      <td>0.0358324</td>\n",
       "    </tr>\n",
       "    <tr>\n",
       "      <th>39</th>\n",
       "      <td>property_magnitude_car</td>\n",
       "      <td>0.0346012</td>\n",
       "    </tr>\n",
       "    <tr>\n",
       "      <th>43</th>\n",
       "      <td>installment_commitment</td>\n",
       "      <td>0.0289278</td>\n",
       "    </tr>\n",
       "    <tr>\n",
       "      <th>15</th>\n",
       "      <td>residence_since</td>\n",
       "      <td>0.0262561</td>\n",
       "    </tr>\n",
       "    <tr>\n",
       "      <th>55</th>\n",
       "      <td>personal_status_'male single'</td>\n",
       "      <td>0.0243241</td>\n",
       "    </tr>\n",
       "    <tr>\n",
       "      <th>33</th>\n",
       "      <td>personal_status_'female div/dep/mar'</td>\n",
       "      <td>0.0217227</td>\n",
       "    </tr>\n",
       "    <tr>\n",
       "      <th>5</th>\n",
       "      <td>purpose_'used car'</td>\n",
       "      <td>0.0204753</td>\n",
       "    </tr>\n",
       "    <tr>\n",
       "      <th>41</th>\n",
       "      <td>credit_history_'all paid'</td>\n",
       "      <td>0.0202816</td>\n",
       "    </tr>\n",
       "    <tr>\n",
       "      <th>11</th>\n",
       "      <td>account_balance_'&gt;=200'</td>\n",
       "      <td>0.0185633</td>\n",
       "    </tr>\n",
       "    <tr>\n",
       "      <th>17</th>\n",
       "      <td>purpose_business</td>\n",
       "      <td>0.0181863</td>\n",
       "    </tr>\n",
       "    <tr>\n",
       "      <th>7</th>\n",
       "      <td>credit_history_'critical/other existing credit'</td>\n",
       "      <td>0.0147492</td>\n",
       "    </tr>\n",
       "    <tr>\n",
       "      <th>1</th>\n",
       "      <td>savings_status_'no known savings'</td>\n",
       "      <td>0.0146314</td>\n",
       "    </tr>\n",
       "    <tr>\n",
       "      <th>48</th>\n",
       "      <td>savings_status_'&lt;100'</td>\n",
       "      <td>0.0140325</td>\n",
       "    </tr>\n",
       "    <tr>\n",
       "      <th>13</th>\n",
       "      <td>housing_rent</td>\n",
       "      <td>0.0137583</td>\n",
       "    </tr>\n",
       "    <tr>\n",
       "      <th>14</th>\n",
       "      <td>account_balance_'0&lt;=X&lt;200'</td>\n",
       "      <td>0.0130435</td>\n",
       "    </tr>\n",
       "    <tr>\n",
       "      <th>60</th>\n",
       "      <td>job_skilled</td>\n",
       "      <td>0.0119899</td>\n",
       "    </tr>\n",
       "    <tr>\n",
       "      <th>19</th>\n",
       "      <td>employment_'1&lt;=X&lt;4'</td>\n",
       "      <td>0.011599</td>\n",
       "    </tr>\n",
       "    <tr>\n",
       "      <th>40</th>\n",
       "      <td>num_dependents</td>\n",
       "      <td>0.0103084</td>\n",
       "    </tr>\n",
       "  </tbody>\n",
       "</table>\n",
       "</div>"
      ],
      "text/plain": [
       "                                            feature importance\n",
       "38                     account_balance_'no account'   0.189165\n",
       "42                                    credit_amount   0.111038\n",
       "50                                         duration   0.108846\n",
       "25                                              age  0.0793403\n",
       "49                 property_magnitude_'real estate'  0.0638102\n",
       "21                         other_payment_plans_none  0.0549898\n",
       "8                                  purpose_radio/tv  0.0395279\n",
       "47                              employment_'4<=X<7'  0.0358324\n",
       "39                           property_magnitude_car  0.0346012\n",
       "43                           installment_commitment  0.0289278\n",
       "15                                  residence_since  0.0262561\n",
       "55                    personal_status_'male single'  0.0243241\n",
       "33             personal_status_'female div/dep/mar'  0.0217227\n",
       "5                                purpose_'used car'  0.0204753\n",
       "41                        credit_history_'all paid'  0.0202816\n",
       "11                          account_balance_'>=200'  0.0185633\n",
       "17                                 purpose_business  0.0181863\n",
       "7   credit_history_'critical/other existing credit'  0.0147492\n",
       "1                 savings_status_'no known savings'  0.0146314\n",
       "48                            savings_status_'<100'  0.0140325\n",
       "13                                     housing_rent  0.0137583\n",
       "14                       account_balance_'0<=X<200'  0.0130435\n",
       "60                                      job_skilled  0.0119899\n",
       "19                              employment_'1<=X<4'   0.011599\n",
       "40                                   num_dependents  0.0103084"
      ]
     },
     "metadata": {},
     "output_type": "display_data"
    }
   ],
   "source": [
    "importance = model.feature_importances_\n",
    "df_importance = pd.DataFrame(data=[list(cols_features), list(importance)]).transpose()\n",
    "df_importance.columns = ['feature', 'importance']\n",
    "df_importance = df_importance[df_importance['importance'] != 0]\n",
    "# sort by feature importance\n",
    "df_importance = df_importance.reindex(df_importance['importance'].abs().sort_values(inplace=False, ascending=False).index)\n",
    "display(df_importance)"
   ]
  },
  {
   "cell_type": "code",
   "execution_count": 36,
   "metadata": {
    "collapsed": true
   },
   "outputs": [],
   "source": [
    "# Visualize the tree\n",
    "#write_Tree('dataset', clf, cols_features) # can be used only for small trees (<=4)"
   ]
  },
  {
   "cell_type": "code",
   "execution_count": 37,
   "metadata": {},
   "outputs": [
    {
     "name": "stdout",
     "output_type": "stream",
     "text": [
      "Area-Under-Curve: 0.7068\n"
     ]
    },
    {
     "data": {
      "image/png": "[encoded data removed]",
      "text/plain": [
       "<matplotlib.figure.Figure at 0x1bd97eb8>"
      ]
     },
     "metadata": {},
     "output_type": "display_data"
    }
   ],
   "source": [
    "fpr, tpr, _ = metrics.roc_curve(np.array(y_test), predicted_prob)\n",
    "auc = metrics.auc(fpr,tpr)\n",
    "print (\"Area-Under-Curve:\", round(auc,4))\n",
    "plot_ROC(fpr,tpr, fontsz, \"Receiver operating characteristic for Decision Tree Model\") "
   ]
  },
  {
   "cell_type": "code",
   "execution_count": 38,
   "metadata": {},
   "outputs": [
    {
     "name": "stdout",
     "output_type": "stream",
     "text": [
      "Optimal threshold at:\t 0.83333\n",
      "Model Loss: 271\n"
     ]
    }
   ],
   "source": [
    "# finding the optimal values using the TRAIN-SET\n",
    "train_predicted_prob = model.predict_proba(X_train)[:,1]\n",
    "loss_matrix = calculate_loss(train_predicted_prob, y_train, c_fn, c_fp, c_tp, c_tn) \n",
    "# finding optimal threshold:\n",
    "opt_thr = list(loss_matrix[loss_matrix['loss'] == loss_matrix['loss'].min()]['prediction'])[0]\n",
    "print(\"Optimal threshold at:\\t\",round(opt_thr,5))\n",
    "loss = loss_matrix['loss'].min()\n",
    "print(\"Model Loss:\", loss)\n",
    "predicted_prob_opt = copy.deepcopy(predicted_prob)\n",
    "predicted_prob_opt[predicted_prob_opt >  opt_thr] = 1\n",
    "predicted_prob_opt[predicted_prob_opt <= opt_thr] = 0"
   ]
  },
  {
   "cell_type": "code",
   "execution_count": 39,
   "metadata": {
    "collapsed": true
   },
   "outputs": [],
   "source": [
    "def_cfm = metrics.confusion_matrix(y_test, predicted) \n",
    "opt_cfm = metrics.confusion_matrix(y_test, predicted_prob_opt) # optimal threshold"
   ]
  },
  {
   "cell_type": "code",
   "execution_count": 40,
   "metadata": {},
   "outputs": [
    {
     "data": {
      "image/png": "[encoded data removed]",
      "text/plain": [
       "<matplotlib.figure.Figure at 0x1bf7d588>"
      ]
     },
     "metadata": {},
     "output_type": "display_data"
    },
    {
     "data": {
      "image/png": "[encoded data removed]",
      "text/plain": [
       "<matplotlib.figure.Figure at 0x1bd353c8>"
      ]
     },
     "metadata": {},
     "output_type": "display_data"
    }
   ],
   "source": [
    "plot_confusion_matrix(def_cfm,['bad', 'good'], \"Default Confusion Matrix\", 0)\n",
    "plot_confusion_matrix(opt_cfm,['bad', 'good'], \"Loss-Optimized Confusion Matrix\", 1)\n",
    "plt.show()"
   ]
  },
  {
   "cell_type": "markdown",
   "metadata": {},
   "source": [
    "## Random Forest\n",
    "Random Forest is an ensemble learning classification method, which utilizes multiple decision-trees,<br>\n",
    "and a voting mechanism in order to classify each sample."
   ]
  },
  {
   "cell_type": "code",
   "execution_count": 41,
   "metadata": {
    "collapsed": true
   },
   "outputs": [],
   "source": [
    "model = RandomForestClassifier(max_depth=md, max_features=mf, \n",
    "                               criterion=criterion, min_samples_leaf = min_leaf, random_state=seed)\n",
    "clf = model.fit(X_train, y_train)"
   ]
  },
  {
   "cell_type": "code",
   "execution_count": 42,
   "metadata": {},
   "outputs": [
    {
     "data": {
      "text/html": [
       "<div>\n",
       "<style>\n",
       "    .dataframe thead tr:only-child th {\n",
       "        text-align: right;\n",
       "    }\n",
       "\n",
       "    .dataframe thead th {\n",
       "        text-align: left;\n",
       "    }\n",
       "\n",
       "    .dataframe tbody tr th {\n",
       "        vertical-align: top;\n",
       "    }\n",
       "</style>\n",
       "<table border=\"1\" class=\"dataframe\">\n",
       "  <thead>\n",
       "    <tr style=\"text-align: right;\">\n",
       "      <th></th>\n",
       "      <th>feature</th>\n",
       "      <th>importance</th>\n",
       "    </tr>\n",
       "  </thead>\n",
       "  <tbody>\n",
       "    <tr>\n",
       "      <th>38</th>\n",
       "      <td>account_balance_'no account'</td>\n",
       "      <td>0.185197</td>\n",
       "    </tr>\n",
       "    <tr>\n",
       "      <th>50</th>\n",
       "      <td>duration</td>\n",
       "      <td>0.140193</td>\n",
       "    </tr>\n",
       "    <tr>\n",
       "      <th>42</th>\n",
       "      <td>credit_amount</td>\n",
       "      <td>0.125743</td>\n",
       "    </tr>\n",
       "    <tr>\n",
       "      <th>25</th>\n",
       "      <td>age</td>\n",
       "      <td>0.0822816</td>\n",
       "    </tr>\n",
       "    <tr>\n",
       "      <th>21</th>\n",
       "      <td>other_payment_plans_none</td>\n",
       "      <td>0.0383443</td>\n",
       "    </tr>\n",
       "    <tr>\n",
       "      <th>7</th>\n",
       "      <td>credit_history_'critical/other existing credit'</td>\n",
       "      <td>0.0322935</td>\n",
       "    </tr>\n",
       "    <tr>\n",
       "      <th>15</th>\n",
       "      <td>residence_since</td>\n",
       "      <td>0.0317521</td>\n",
       "    </tr>\n",
       "    <tr>\n",
       "      <th>43</th>\n",
       "      <td>installment_commitment</td>\n",
       "      <td>0.029115</td>\n",
       "    </tr>\n",
       "    <tr>\n",
       "      <th>49</th>\n",
       "      <td>property_magnitude_'real estate'</td>\n",
       "      <td>0.0281022</td>\n",
       "    </tr>\n",
       "    <tr>\n",
       "      <th>48</th>\n",
       "      <td>savings_status_'&lt;100'</td>\n",
       "      <td>0.0236219</td>\n",
       "    </tr>\n",
       "    <tr>\n",
       "      <th>39</th>\n",
       "      <td>property_magnitude_car</td>\n",
       "      <td>0.0200188</td>\n",
       "    </tr>\n",
       "    <tr>\n",
       "      <th>41</th>\n",
       "      <td>credit_history_'all paid'</td>\n",
       "      <td>0.0176457</td>\n",
       "    </tr>\n",
       "    <tr>\n",
       "      <th>58</th>\n",
       "      <td>housing_own</td>\n",
       "      <td>0.0162191</td>\n",
       "    </tr>\n",
       "    <tr>\n",
       "      <th>1</th>\n",
       "      <td>savings_status_'no known savings'</td>\n",
       "      <td>0.0153777</td>\n",
       "    </tr>\n",
       "    <tr>\n",
       "      <th>36</th>\n",
       "      <td>credit_history_'existing paid'</td>\n",
       "      <td>0.0138435</td>\n",
       "    </tr>\n",
       "    <tr>\n",
       "      <th>55</th>\n",
       "      <td>personal_status_'male single'</td>\n",
       "      <td>0.0131877</td>\n",
       "    </tr>\n",
       "    <tr>\n",
       "      <th>22</th>\n",
       "      <td>employment_'&gt;=7'</td>\n",
       "      <td>0.0131349</td>\n",
       "    </tr>\n",
       "    <tr>\n",
       "      <th>34</th>\n",
       "      <td>other_parties_none</td>\n",
       "      <td>0.0128245</td>\n",
       "    </tr>\n",
       "    <tr>\n",
       "      <th>53</th>\n",
       "      <td>existing_credits</td>\n",
       "      <td>0.0127219</td>\n",
       "    </tr>\n",
       "    <tr>\n",
       "      <th>30</th>\n",
       "      <td>other_payment_plans_bank</td>\n",
       "      <td>0.0126918</td>\n",
       "    </tr>\n",
       "    <tr>\n",
       "      <th>8</th>\n",
       "      <td>purpose_radio/tv</td>\n",
       "      <td>0.0123834</td>\n",
       "    </tr>\n",
       "    <tr>\n",
       "      <th>47</th>\n",
       "      <td>employment_'4&lt;=X&lt;7'</td>\n",
       "      <td>0.011661</td>\n",
       "    </tr>\n",
       "    <tr>\n",
       "      <th>60</th>\n",
       "      <td>job_skilled</td>\n",
       "      <td>0.0105538</td>\n",
       "    </tr>\n",
       "    <tr>\n",
       "      <th>33</th>\n",
       "      <td>personal_status_'female div/dep/mar'</td>\n",
       "      <td>0.0103729</td>\n",
       "    </tr>\n",
       "    <tr>\n",
       "      <th>10</th>\n",
       "      <td>account_balance_'&lt;0'</td>\n",
       "      <td>0.00973173</td>\n",
       "    </tr>\n",
       "    <tr>\n",
       "      <th>26</th>\n",
       "      <td>employment_'&lt;1'</td>\n",
       "      <td>0.00970859</td>\n",
       "    </tr>\n",
       "    <tr>\n",
       "      <th>9</th>\n",
       "      <td>property_magnitude_'life insurance'</td>\n",
       "      <td>0.00827898</td>\n",
       "    </tr>\n",
       "    <tr>\n",
       "      <th>5</th>\n",
       "      <td>purpose_'used car'</td>\n",
       "      <td>0.00824285</td>\n",
       "    </tr>\n",
       "    <tr>\n",
       "      <th>19</th>\n",
       "      <td>employment_'1&lt;=X&lt;4'</td>\n",
       "      <td>0.00815272</td>\n",
       "    </tr>\n",
       "    <tr>\n",
       "      <th>59</th>\n",
       "      <td>purpose_'new car'</td>\n",
       "      <td>0.00663228</td>\n",
       "    </tr>\n",
       "    <tr>\n",
       "      <th>14</th>\n",
       "      <td>account_balance_'0&lt;=X&lt;200'</td>\n",
       "      <td>0.0062392</td>\n",
       "    </tr>\n",
       "    <tr>\n",
       "      <th>3</th>\n",
       "      <td>own_telephone_none</td>\n",
       "      <td>0.00595146</td>\n",
       "    </tr>\n",
       "    <tr>\n",
       "      <th>11</th>\n",
       "      <td>account_balance_'&gt;=200'</td>\n",
       "      <td>0.0058795</td>\n",
       "    </tr>\n",
       "    <tr>\n",
       "      <th>31</th>\n",
       "      <td>job_'unskilled resident'</td>\n",
       "      <td>0.00493613</td>\n",
       "    </tr>\n",
       "    <tr>\n",
       "      <th>37</th>\n",
       "      <td>job_'high qualif/self emp/mgmt'</td>\n",
       "      <td>0.00458578</td>\n",
       "    </tr>\n",
       "    <tr>\n",
       "      <th>6</th>\n",
       "      <td>employment_unemployed</td>\n",
       "      <td>0.00344512</td>\n",
       "    </tr>\n",
       "    <tr>\n",
       "      <th>18</th>\n",
       "      <td>property_magnitude_'no known property'</td>\n",
       "      <td>0.0031979</td>\n",
       "    </tr>\n",
       "    <tr>\n",
       "      <th>52</th>\n",
       "      <td>other_parties_guarantor</td>\n",
       "      <td>0.00287838</td>\n",
       "    </tr>\n",
       "    <tr>\n",
       "      <th>35</th>\n",
       "      <td>personal_status_'male mar/wid'</td>\n",
       "      <td>0.00150423</td>\n",
       "    </tr>\n",
       "    <tr>\n",
       "      <th>40</th>\n",
       "      <td>num_dependents</td>\n",
       "      <td>0.00135562</td>\n",
       "    </tr>\n",
       "  </tbody>\n",
       "</table>\n",
       "</div>"
      ],
      "text/plain": [
       "                                            feature  importance\n",
       "38                     account_balance_'no account'    0.185197\n",
       "50                                         duration    0.140193\n",
       "42                                    credit_amount    0.125743\n",
       "25                                              age   0.0822816\n",
       "21                         other_payment_plans_none   0.0383443\n",
       "7   credit_history_'critical/other existing credit'   0.0322935\n",
       "15                                  residence_since   0.0317521\n",
       "43                           installment_commitment    0.029115\n",
       "49                 property_magnitude_'real estate'   0.0281022\n",
       "48                            savings_status_'<100'   0.0236219\n",
       "39                           property_magnitude_car   0.0200188\n",
       "41                        credit_history_'all paid'   0.0176457\n",
       "58                                      housing_own   0.0162191\n",
       "1                 savings_status_'no known savings'   0.0153777\n",
       "36                   credit_history_'existing paid'   0.0138435\n",
       "55                    personal_status_'male single'   0.0131877\n",
       "22                                 employment_'>=7'   0.0131349\n",
       "34                               other_parties_none   0.0128245\n",
       "53                                 existing_credits   0.0127219\n",
       "30                         other_payment_plans_bank   0.0126918\n",
       "8                                  purpose_radio/tv   0.0123834\n",
       "47                              employment_'4<=X<7'    0.011661\n",
       "60                                      job_skilled   0.0105538\n",
       "33             personal_status_'female div/dep/mar'   0.0103729\n",
       "10                             account_balance_'<0'  0.00973173\n",
       "26                                  employment_'<1'  0.00970859\n",
       "9               property_magnitude_'life insurance'  0.00827898\n",
       "5                                purpose_'used car'  0.00824285\n",
       "19                              employment_'1<=X<4'  0.00815272\n",
       "59                                purpose_'new car'  0.00663228\n",
       "14                       account_balance_'0<=X<200'   0.0062392\n",
       "3                                own_telephone_none  0.00595146\n",
       "11                          account_balance_'>=200'   0.0058795\n",
       "31                         job_'unskilled resident'  0.00493613\n",
       "37                  job_'high qualif/self emp/mgmt'  0.00458578\n",
       "6                             employment_unemployed  0.00344512\n",
       "18           property_magnitude_'no known property'   0.0031979\n",
       "52                          other_parties_guarantor  0.00287838\n",
       "35                   personal_status_'male mar/wid'  0.00150423\n",
       "40                                   num_dependents  0.00135562"
      ]
     },
     "metadata": {},
     "output_type": "display_data"
    }
   ],
   "source": [
    "importance = model.feature_importances_\n",
    "df_importance = pd.DataFrame(data=[list(cols_features), list(importance)]).transpose()\n",
    "df_importance.columns = ['feature', 'importance']\n",
    "df_importance = df_importance[df_importance['importance'] != 0]\n",
    "# sort by feature importance\n",
    "df_importance = df_importance.reindex(df_importance['importance'].abs().sort_values(inplace=False, ascending=False).index)\n",
    "display(df_importance)"
   ]
  },
  {
   "cell_type": "code",
   "execution_count": 43,
   "metadata": {},
   "outputs": [
    {
     "name": "stdout",
     "output_type": "stream",
     "text": [
      "Area-Under-Curve: 0.773\n"
     ]
    },
    {
     "data": {
      "image/png": "[encoded data removed]",
      "text/plain": [
       "<matplotlib.figure.Figure at 0x1bf7da90>"
      ]
     },
     "metadata": {},
     "output_type": "display_data"
    }
   ],
   "source": [
    "predicted = clf.predict(X_test)\n",
    "predicted_prob = clf.predict_proba(X_test)[:, 1]\n",
    "fpr, tpr, thresholds = metrics.roc_curve(np.array(y_test), predicted_prob)\n",
    "auc = metrics.auc(fpr,tpr)\n",
    "print (\"Area-Under-Curve:\", round(auc,4))\n",
    "plot_ROC(fpr,tpr, fontsz, \"Receiver operating characteristic for Random Forest Model\")"
   ]
  },
  {
   "cell_type": "code",
   "execution_count": 44,
   "metadata": {},
   "outputs": [
    {
     "name": "stdout",
     "output_type": "stream",
     "text": [
      "Optimal threshold at:\t 0.69705\n",
      "Model Loss: 241\n"
     ]
    }
   ],
   "source": [
    "# finding the optimal values using the TRAIN-SET\n",
    "train_predicted_prob = model.predict_proba(X_train)[:,1]\n",
    "loss_matrix = calculate_loss(train_predicted_prob, y_train, c_fn, c_fp, c_tp, c_tn) \n",
    "# finding optimal threshold:\n",
    "opt_thr = list(loss_matrix[loss_matrix['loss'] == loss_matrix['loss'].min()]['prediction'])[0]\n",
    "print(\"Optimal threshold at:\\t\",round(opt_thr,5))\n",
    "loss = loss_matrix['loss'].min()\n",
    "print(\"Model Loss:\", loss)\n",
    "predicted_prob_opt = copy.deepcopy(predicted_prob)\n",
    "predicted_prob_opt[predicted_prob_opt >  opt_thr] = 1\n",
    "predicted_prob_opt[predicted_prob_opt <= opt_thr] = 0"
   ]
  },
  {
   "cell_type": "code",
   "execution_count": 45,
   "metadata": {
    "collapsed": true
   },
   "outputs": [],
   "source": [
    "def_cfm = metrics.confusion_matrix(y_test, predicted) \n",
    "opt_cfm = metrics.confusion_matrix(y_test, predicted_prob_opt) # optimal threshold"
   ]
  },
  {
   "cell_type": "code",
   "execution_count": 46,
   "metadata": {},
   "outputs": [
    {
     "data": {
      "image/png": "[encoded data removed]",
      "text/plain": [
       "<matplotlib.figure.Figure at 0x1bd03b38>"
      ]
     },
     "metadata": {},
     "output_type": "display_data"
    },
    {
     "data": {
      "image/png": "[encoded data removed]",
      "text/plain": [
       "<matplotlib.figure.Figure at 0x1bd03780>"
      ]
     },
     "metadata": {},
     "output_type": "display_data"
    }
   ],
   "source": [
    "plot_confusion_matrix(def_cfm,['bad', 'good'], \"Default Confusion Matrix\", 0)\n",
    "plot_confusion_matrix(opt_cfm,['bad', 'good'], \"Loss-Optimized Confusion Matrix\", 1)\n",
    "plt.show()"
   ]
  },
  {
   "cell_type": "code",
   "execution_count": null,
   "metadata": {
    "collapsed": true
   },
   "outputs": [],
   "source": []
  },
  {
   "cell_type": "code",
   "execution_count": null,
   "metadata": {
    "collapsed": true
   },
   "outputs": [],
   "source": []
  },
  {
   "cell_type": "code",
   "execution_count": null,
   "metadata": {
    "collapsed": true
   },
   "outputs": [],
   "source": [
    "# model AUC, loss:\n",
    "# Logistic Regression:    0.81, 354\n",
    "# Naive Bayes:            0.81, 395\n",
    "# Decision Tree:          0.71, 271\n",
    "# Random Forest:          0.77, 241 "
   ]
  },
  {
   "cell_type": "code",
   "execution_count": null,
   "metadata": {
    "collapsed": true
   },
   "outputs": [],
   "source": []
  },
  {
   "cell_type": "code",
   "execution_count": null,
   "metadata": {
    "collapsed": true
   },
   "outputs": [],
   "source": []
  },
  {
   "cell_type": "code",
   "execution_count": null,
   "metadata": {
    "collapsed": true
   },
   "outputs": [],
   "source": []
  },
  {
   "cell_type": "code",
   "execution_count": null,
   "metadata": {
    "collapsed": true
   },
   "outputs": [],
   "source": []
  },
  {
   "cell_type": "code",
   "execution_count": null,
   "metadata": {
    "collapsed": true
   },
   "outputs": [],
   "source": []
  },
  {
   "cell_type": "code",
   "execution_count": null,
   "metadata": {
    "collapsed": true
   },
   "outputs": [],
   "source": []
  },
  {
   "cell_type": "code",
   "execution_count": null,
   "metadata": {
    "collapsed": true
   },
   "outputs": [],
   "source": []
  },
  {
   "cell_type": "code",
   "execution_count": null,
   "metadata": {
    "collapsed": true
   },
   "outputs": [],
   "source": []
  },
  {
   "cell_type": "code",
   "execution_count": null,
   "metadata": {
    "collapsed": true
   },
   "outputs": [],
   "source": []
  },
  {
   "cell_type": "code",
   "execution_count": null,
   "metadata": {
    "collapsed": true
   },
   "outputs": [],
   "source": []
  },
  {
   "cell_type": "code",
   "execution_count": null,
   "metadata": {
    "collapsed": true
   },
   "outputs": [],
   "source": []
  },
  {
   "cell_type": "code",
   "execution_count": null,
   "metadata": {
    "collapsed": true
   },
   "outputs": [],
   "source": []
  }
 ],
 "metadata": {
  "kernelspec": {
   "display_name": "Python 3",
   "language": "python",
   "name": "python3"
  },
  "language_info": {
   "codemirror_mode": {
    "name": "ipython",
    "version": 3
   },
   "file_extension": ".py",
   "mimetype": "text/x-python",
   "name": "python",
   "nbconvert_exporter": "python",
   "pygments_lexer": "ipython3",
   "version": "3.5.4"
  }
 },
 "nbformat": 4,
 "nbformat_minor": 2
}
